{
 "cells": [
  {
   "cell_type": "markdown",
   "metadata": {
    "id": "um2QXkfLXlXS"
   },
   "source": [
    "# TP à rendre 4 descripteurs d'images\n",
    "Dans ce TP, nous aimerions appliquer une analyse d'image en extrayant les points clés d'une image donnée.\n",
    "L'objectif de la detection de points d'interet est d'initier des traitement ultérieurs tel que la comparaison d'images entres elles."
   ]
  },
  {
   "cell_type": "code",
   "execution_count": 44,
   "metadata": {
    "id": "KCfoD-G6XlXV"
   },
   "outputs": [],
   "source": [
    "import numpy as np\n",
    "import cv2 as cv\n",
    "import math\n",
    "import matplotlib.pyplot as plt\n",
    "from numpy import linalg as LA"
   ]
  },
  {
   "cell_type": "code",
   "execution_count": 45,
   "metadata": {},
   "outputs": [
    {
     "name": "stdout",
     "output_type": "stream",
     "text": [
      "(320, 452)\n"
     ]
    }
   ],
   "source": [
    "#lecture de l'image\n",
    "image =cv.imread('image2.png',0)\n",
    "print(image.shape)"
   ]
  },
  {
   "cell_type": "code",
   "execution_count": 46,
   "metadata": {},
   "outputs": [
    {
     "data": {
      "text/plain": [
       "<matplotlib.image.AxesImage at 0x231739e1d90>"
      ]
     },
     "execution_count": 46,
     "metadata": {},
     "output_type": "execute_result"
    },
    {
     "data": {
      "image/png": "[encoded data removed]",
      "text/plain": [
       "<Figure size 432x288 with 1 Axes>"
      ]
     },
     "metadata": {
      "needs_background": "light"
     },
     "output_type": "display_data"
    }
   ],
   "source": [
    "plt.imshow(image,cmap='gray')"
   ]
  },
  {
   "cell_type": "markdown",
   "metadata": {},
   "source": [
    "# Detection de points avec le detecteur MORAVEC"
   ]
  },
  {
   "cell_type": "markdown",
   "metadata": {},
   "source": [
    "Définition de paramètres"
   ]
  },
  {
   "cell_type": "code",
   "execution_count": 47,
   "metadata": {},
   "outputs": [],
   "source": [
    "# paramétres de MORAVEC\n",
    "S= 2  # Seuil\n",
    "F= 3  # Taille de la fenêtre\n",
    "U= [[1,0],[1,1],[0,1],[-1,1],[-1,0],[-1,-1],[0,-1],[1,-1]]# Déplacements"
   ]
  },
  {
   "cell_type": "code",
   "execution_count": 48,
   "metadata": {},
   "outputs": [
    {
     "data": {
      "text/plain": [
       "<matplotlib.image.AxesImage at 0x23173bdc460>"
      ]
     },
     "execution_count": 48,
     "metadata": {},
     "output_type": "execute_result"
    },
    {
     "data": {
      "image/png": "[encoded data removed]",
      "text/plain": [
       "<Figure size 432x288 with 1 Axes>"
      ]
     },
     "metadata": {
      "needs_background": "light"
     },
     "output_type": "display_data"
    }
   ],
   "source": [
    "test = np.genfromtxt('mat.csv', delimiter=';')\n",
    "plt.imshow(test,cmap='gray')"
   ]
  },
  {
   "cell_type": "markdown",
   "metadata": {},
   "source": [
    "Calcul de la carte de coins (cornerness map)"
   ]
  },
  {
   "cell_type": "code",
   "execution_count": 49,
   "metadata": {},
   "outputs": [],
   "source": [
    "def getCornernessMap(x,y,image,F,U):\n",
    "    imageTemp = cv.copyMakeBorder(image,math.ceil(F/2),math.ceil(F/2),math.ceil(F/2),math.ceil(F/2),cv.BORDER_CONSTANT,(0,0,0))\n",
    "    c = []\n",
    "    for d in U:\n",
    "        s = 0\n",
    "        for a in range(-1,2):\n",
    "            for b in range(-1,2):\n",
    "                s += (int(imageTemp[x+d[0]+a][y+d[1]+b])-int(imageTemp[x+a][y+b]))**2\n",
    "        c.append(int(s))\n",
    "    return c"
   ]
  },
  {
   "cell_type": "markdown",
   "metadata": {},
   "source": [
    "Minimum de la carte de coins"
   ]
  },
  {
   "cell_type": "code",
   "execution_count": 50,
   "metadata": {},
   "outputs": [],
   "source": [
    "def getMapMin(map):\n",
    "    return min(map)"
   ]
  },
  {
   "cell_type": "markdown",
   "metadata": {},
   "source": [
    "Appel des fonctions pour calcul de points d'interêt"
   ]
  },
  {
   "cell_type": "code",
   "execution_count": 51,
   "metadata": {},
   "outputs": [],
   "source": [
    "poi = []\n",
    "for x in range(image.shape[0]):\n",
    "    for y in range(image.shape[1]):\n",
    "        # print(x,y)\n",
    "        cornernessMap = getCornernessMap(x+2,y+2,image,F,U)\n",
    "        c = getMapMin(cornernessMap)\n",
    "        if c >= S:\n",
    "            poi.append((x,y))\n",
    "# print(poi)"
   ]
  },
  {
   "cell_type": "markdown",
   "metadata": {},
   "source": [
    "Affichage de l'image résultante, colorer chaque point d'interêt"
   ]
  },
  {
   "cell_type": "code",
   "execution_count": 52,
   "metadata": {},
   "outputs": [
    {
     "name": "stderr",
     "output_type": "stream",
     "text": [
      "Clipping input data to the valid range for imshow with RGB data ([0..1] for floats or [0..255] for integers).\n"
     ]
    },
    {
     "data": {
      "text/plain": [
       "<matplotlib.image.AxesImage at 0x23173962700>"
      ]
     },
     "execution_count": 52,
     "metadata": {},
     "output_type": "execute_result"
    },
    {
     "data": {
      "image/png": "[encoded data removed]",
      "text/plain": [
       "<Figure size 432x288 with 1 Axes>"
      ]
     },
     "metadata": {
      "needs_background": "light"
     },
     "output_type": "display_data"
    }
   ],
   "source": [
    "img2=np.zeros((image.shape[0],image.shape[1],3))\n",
    "img2[:,:,0]=image\n",
    "img2[:,:,1]=image\n",
    "img2[:,:,2]=image\n",
    "for x,y in poi:\n",
    "    img2[x][y] = [255,0,0]\n",
    "plt.imshow(img2)"
   ]
  },
  {
   "cell_type": "markdown",
   "metadata": {},
   "source": [
    "# Descripteurs Harris\n",
    "D'abord calculer les valeurs et vecteurs propres comme vu en TD, puis appliquer l'agorithme de Harris"
   ]
  },
  {
   "cell_type": "code",
   "execution_count": 53,
   "metadata": {},
   "outputs": [],
   "source": [
    "A= [[-1,2,0],[0,3,4],[0,0,7]]\n",
    "B=[[-1,2,2],[2,2,-1],[1,-2,1]]\n",
    "val1, vec1 = LA.eig(A)\n",
    "val2, vec2 = LA.eig(A)"
   ]
  },
  {
   "cell_type": "code",
   "execution_count": 54,
   "metadata": {},
   "outputs": [
    {
     "name": "stdout",
     "output_type": "stream",
     "text": [
      "[-1.  3.  7.] \n",
      " [[1.         0.4472136  0.17407766]\n",
      " [0.         0.89442719 0.69631062]\n",
      " [0.         0.         0.69631062]] \n",
      " [-1.  3.  7.] \n",
      " [[1.         0.4472136  0.17407766]\n",
      " [0.         0.89442719 0.69631062]\n",
      " [0.         0.         0.69631062]]\n"
     ]
    }
   ],
   "source": [
    "print(val1,'\\n', vec1,'\\n',val2,'\\n',vec2)"
   ]
  },
  {
   "cell_type": "markdown",
   "metadata": {},
   "source": [
    "Expliquer le résultat obtenu, et comparer avec le TD;  \n",
    "Pourquoi les résultats sont-ils différents?"
   ]
  },
  {
   "cell_type": "markdown",
   "metadata": {},
   "source": [
    "# Reponse:\n",
    "votre réponse ici ..."
   ]
  },
  {
   "cell_type": "markdown",
   "metadata": {},
   "source": [
    "# Detection de points avec HARRIS\n",
    "- appliquer les étapes vues en TD\n",
    "- pour chaque point (x,y) de l'image, determiner si c'est un point d'interêt ou pas en prennant une fenêtre 3x3 entourant x,y"
   ]
  },
  {
   "cell_type": "code",
   "execution_count": 55,
   "metadata": {},
   "outputs": [
    {
     "data": {
      "text/plain": [
       "<matplotlib.image.AxesImage at 0x23173b680d0>"
      ]
     },
     "execution_count": 55,
     "metadata": {},
     "output_type": "execute_result"
    },
    {
     "data": {
      "image/png": "[encoded data removed]",
      "text/plain": [
       "<Figure size 432x288 with 1 Axes>"
      ]
     },
     "metadata": {
      "needs_background": "light"
     },
     "output_type": "display_data"
    }
   ],
   "source": [
    "def find_harris_corners(input_img, k, window_size, threshold):\n",
    "    corner_list = []\n",
    "    output_img = cv.cvtColor(input_img.copy(), cv.COLOR_GRAY2RGB)\n",
    "    \n",
    "    offset = int(window_size/2)\n",
    "    y_range = input_img.shape[0] - offset\n",
    "    x_range = input_img.shape[1] - offset\n",
    "\n",
    "    dy, dx = np.gradient(input_img)\n",
    "    Ixx = dx**2\n",
    "    Ixy = dy*dx\n",
    "    Iyy = dy**2\n",
    "\n",
    "    for y in range(offset, y_range):\n",
    "        for x in range(offset, x_range):\n",
    "            start_y = y - offset\n",
    "            end_y = y + offset + 1\n",
    "            start_x = x - offset\n",
    "            end_x = x + offset + 1\n",
    "            \n",
    "            windowIxx = Ixx[start_y : end_y, start_x : end_x]\n",
    "            windowIxy = Ixy[start_y : end_y, start_x : end_x]\n",
    "            windowIyy = Iyy[start_y : end_y, start_x : end_x]\n",
    "            \n",
    "            Sxx = windowIxx.sum()\n",
    "            Sxy = windowIxy.sum()\n",
    "            Syy = windowIyy.sum()\n",
    "\n",
    "            det = (Sxx * Syy) - (Sxy**2)\n",
    "            trace = Sxx + Syy\n",
    "            \n",
    "            r = det - k*(trace**2)\n",
    "\n",
    "            if r > threshold:\n",
    "                corner_list.append([x, y, r])\n",
    "                output_img[y,x] = (0,0,255)\n",
    "\n",
    "    return corner_list, output_img\n",
    "\n",
    "img=image.copy()\n",
    "_,dst = find_harris_corners(img,0.04,5,0)\n",
    "dst = cv.dilate(dst,None)\n",
    "plt.imshow(dst)\n"
   ]
  },
  {
   "cell_type": "markdown",
   "metadata": {},
   "source": [
    "comparer avec opencv"
   ]
  },
  {
   "cell_type": "code",
   "execution_count": 56,
   "metadata": {},
   "outputs": [
    {
     "name": "stderr",
     "output_type": "stream",
     "text": [
      "Clipping input data to the valid range for imshow with RGB data ([0..1] for floats or [0..255] for integers).\n"
     ]
    },
    {
     "name": "stdout",
     "output_type": "stream",
     "text": [
      "[[[255. 255. 255.]\n",
      "  [255. 255. 255.]\n",
      "  [255. 255. 255.]\n",
      "  ...\n",
      "  [255. 255. 255.]\n",
      "  [255. 255. 255.]\n",
      "  [255. 255. 255.]]\n",
      "\n",
      " [[255. 255. 255.]\n",
      "  [255. 255. 255.]\n",
      "  [255. 255. 255.]\n",
      "  ...\n",
      "  [255. 255. 255.]\n",
      "  [255. 255. 255.]\n",
      "  [255. 255. 255.]]\n",
      "\n",
      " [[255. 255. 255.]\n",
      "  [255. 255. 255.]\n",
      "  [255. 255. 255.]\n",
      "  ...\n",
      "  [255. 255. 255.]\n",
      "  [255. 255. 255.]\n",
      "  [255. 255. 255.]]\n",
      "\n",
      " ...\n",
      "\n",
      " [[255. 255. 255.]\n",
      "  [255. 255. 255.]\n",
      "  [255. 255. 255.]\n",
      "  ...\n",
      "  [255. 255. 255.]\n",
      "  [255. 255. 255.]\n",
      "  [255. 255. 255.]]\n",
      "\n",
      " [[255. 255. 255.]\n",
      "  [255. 255. 255.]\n",
      "  [255. 255. 255.]\n",
      "  ...\n",
      "  [255. 255. 255.]\n",
      "  [255. 255. 255.]\n",
      "  [255. 255. 255.]]\n",
      "\n",
      " [[255. 255. 255.]\n",
      "  [255. 255. 255.]\n",
      "  [255. 255. 255.]\n",
      "  ...\n",
      "  [255. 255. 255.]\n",
      "  [255. 255. 255.]\n",
      "  [255. 255. 255.]]]\n"
     ]
    },
    {
     "data": {
      "text/plain": [
       "<matplotlib.image.AxesImage at 0x231744a3b80>"
      ]
     },
     "execution_count": 56,
     "metadata": {},
     "output_type": "execute_result"
    },
    {
     "data": {
      "image/png": "[encoded data removed]",
      "text/plain": [
       "<Figure size 432x288 with 1 Axes>"
      ]
     },
     "metadata": {
      "needs_background": "light"
     },
     "output_type": "display_data"
    }
   ],
   "source": [
    "img=image.copy()\n",
    "# Detecter les points avec Harris\n",
    "dst = cv.cornerHarris(img,2,3,0.04)\n",
    "# Dilater l'image pour mieux visualiser les points de coins\n",
    "dst = cv.dilate(dst,None)\n",
    "# Créer une image RVB\n",
    "img2=np.zeros((img.shape[0],img.shape[1],3))\n",
    "img2[:,:,0]=img\n",
    "img2[:,:,1]=img\n",
    "img2[:,:,2]=img\n",
    "# Dessiner les points sur l'image RVB\n",
    "img2[dst>0.01*dst.max()]=[0,0,255]\n",
    "print(img2)\n",
    "plt.imshow(img2)"
   ]
  },
  {
   "cell_type": "code",
   "execution_count": null,
   "metadata": {},
   "outputs": [],
   "source": []
  },
  {
   "cell_type": "markdown",
   "metadata": {},
   "source": [
    "# Consignes\n",
    "\n",
    "Le travail est à remettre par groupe de 4 au maximum [1..4].\n",
    "\n",
    "Le délai est le vendredi 10 Decembre 2021 à 23:00\n"
   ]
  },
  {
   "cell_type": "code",
   "execution_count": 57,
   "metadata": {},
   "outputs": [],
   "source": [
    "# bonne chance"
   ]
  }
 ],
 "metadata": {
  "colab": {
   "collapsed_sections": [],
   "name": "Gradient.ipynb",
   "provenance": []
  },
  "kernelspec": {
   "display_name": "Python 3",
   "language": "python",
   "name": "python3"
  },
  "language_info": {
   "codemirror_mode": {
    "name": "ipython",
    "version": 3
   },
   "file_extension": ".py",
   "mimetype": "text/x-python",
   "name": "python",
   "nbconvert_exporter": "python",
   "pygments_lexer": "ipython3",
   "version": "3.9.4"
  }
 },
 "nbformat": 4,
 "nbformat_minor": 1
}
